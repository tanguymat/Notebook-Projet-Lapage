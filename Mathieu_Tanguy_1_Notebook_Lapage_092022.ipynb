{
 "cells": [
  {
   "cell_type": "markdown",
   "id": "79d99146",
   "metadata": {
    "slideshow": {
     "slide_type": "-"
    }
   },
   "source": [
    "# Notebook Lapage / Tanguy Mathieu / P6 Data Analyst 10/2022"
   ]
  },
  {
   "cell_type": "code",
   "execution_count": null,
   "id": "0b05b11e",
   "metadata": {},
   "outputs": [],
   "source": [
    "import pandas as pd\n",
    "import numpy as np\n",
    "import matplotlib.pyplot as plt\n",
    "import scipy.stats as stats\n",
    "from scipy.stats import chi2_contingency as chi2_contingency\n",
    "from scipy.stats import f_oneway\n",
    "from scipy.stats import pearsonr\n",
    "from scipy.stats import spearmanr\n",
    "from scipy.stats import bartlett\n",
    "from scipy.stats import shapiro\n",
    "from scipy.stats import kstest\n",
    "import datetime\n",
    "from datetime import date\n",
    "import seaborn as sns\n",
    "import warnings\n",
    "warnings.filterwarnings('ignore')"
   ]
  },
  {
   "cell_type": "markdown",
   "id": "2dd6a663",
   "metadata": {},
   "source": [
    "# 1ère PARTIE: CHARGEMENT,NETTOYAGE, PREPARATION DES DONNEES"
   ]
  },
  {
   "cell_type": "markdown",
   "id": "0266d7d0",
   "metadata": {},
   "source": [
    "### chargement du dossier transaction et premières vérifications puis nettoyage des données"
   ]
  },
  {
   "cell_type": "code",
   "execution_count": null,
   "id": "82d39f45",
   "metadata": {
    "scrolled": false
   },
   "outputs": [],
   "source": [
    "transaction = pd.read_csv('transactions.csv')\n",
    "transaction.head()"
   ]
  },
  {
   "cell_type": "code",
   "execution_count": null,
   "id": "4ecd5a0b",
   "metadata": {
    "scrolled": true
   },
   "outputs": [],
   "source": [
    "transaction.describe(include='all')"
   ]
  },
  {
   "cell_type": "code",
   "execution_count": null,
   "id": "c4a5be52",
   "metadata": {
    "scrolled": true
   },
   "outputs": [],
   "source": [
    "transaction.info()"
   ]
  },
  {
   "cell_type": "markdown",
   "id": "c4d92219",
   "metadata": {},
   "source": [
    "### recherche des doublons et leur suppression"
   ]
  },
  {
   "cell_type": "code",
   "execution_count": null,
   "id": "8a8b3387",
   "metadata": {},
   "outputs": [],
   "source": [
    "duplicate_transaction = transaction[transaction.duplicated()]\n",
    "duplicate_transaction"
   ]
  },
  {
   "cell_type": "code",
   "execution_count": null,
   "id": "d15b810c",
   "metadata": {
    "scrolled": false
   },
   "outputs": [],
   "source": [
    "transaction1 = transaction.drop_duplicates()\n",
    "transaction1"
   ]
  },
  {
   "cell_type": "code",
   "execution_count": null,
   "id": "eed780e6",
   "metadata": {
    "scrolled": true
   },
   "outputs": [],
   "source": [
    "duplicate_transaction1 = transaction1[transaction1.duplicated()]\n",
    "duplicate_transaction1"
   ]
  },
  {
   "cell_type": "code",
   "execution_count": null,
   "id": "70c54104",
   "metadata": {
    "scrolled": true
   },
   "outputs": [],
   "source": [
    "transaction1.describe()"
   ]
  },
  {
   "cell_type": "markdown",
   "id": "0be0e8be",
   "metadata": {},
   "source": [
    "### recherche et suppression des valeurs 's_0'"
   ]
  },
  {
   "cell_type": "code",
   "execution_count": null,
   "id": "5555c969",
   "metadata": {
    "scrolled": false
   },
   "outputs": [],
   "source": [
    "s0 = transaction1.loc[transaction1['session_id']=='s_0']\n",
    "s0"
   ]
  },
  {
   "cell_type": "code",
   "execution_count": null,
   "id": "d45b2d46",
   "metadata": {},
   "outputs": [],
   "source": [
    "transaction2 = transaction1.drop(transaction1.loc[transaction1['session_id']=='s_0'].index)\n",
    "transaction2"
   ]
  },
  {
   "cell_type": "code",
   "execution_count": null,
   "id": "e5522258",
   "metadata": {},
   "outputs": [],
   "source": [
    "transaction2.isnull().sum()"
   ]
  },
  {
   "cell_type": "code",
   "execution_count": null,
   "id": "53d0a642",
   "metadata": {},
   "outputs": [],
   "source": [
    "transaction2.isna().sum()"
   ]
  },
  {
   "cell_type": "markdown",
   "id": "41f81e03",
   "metadata": {},
   "source": [
    "### changement du format objet en date pour la colonne 'date'"
   ]
  },
  {
   "cell_type": "code",
   "execution_count": null,
   "id": "eb5d1f50",
   "metadata": {},
   "outputs": [],
   "source": [
    "transaction2['date']= pd.to_datetime(transaction2.date).dt.strftime('%Y-%m-%d')\n",
    "transaction2['date']= pd.to_datetime(transaction2['date'])"
   ]
  },
  {
   "cell_type": "markdown",
   "id": "08f43e11",
   "metadata": {},
   "source": [
    "### chargement du dossier products et premières vérifications puis nettoyage des données"
   ]
  },
  {
   "cell_type": "code",
   "execution_count": null,
   "id": "1532f694",
   "metadata": {},
   "outputs": [],
   "source": [
    "product = pd.read_csv('products.csv')\n",
    "product.head()"
   ]
  },
  {
   "cell_type": "code",
   "execution_count": null,
   "id": "7a3d1b4b",
   "metadata": {},
   "outputs": [],
   "source": [
    "product.describe(include='all')"
   ]
  },
  {
   "cell_type": "markdown",
   "id": "60286723",
   "metadata": {},
   "source": [
    "### recherche des doublons dans le dossier 'product'"
   ]
  },
  {
   "cell_type": "code",
   "execution_count": null,
   "id": "12e9923d",
   "metadata": {},
   "outputs": [],
   "source": [
    "product.info()"
   ]
  },
  {
   "cell_type": "code",
   "execution_count": null,
   "id": "7cd76599",
   "metadata": {
    "scrolled": false
   },
   "outputs": [],
   "source": [
    "duplicate_product = product[product.duplicated()]\n",
    "duplicate_product"
   ]
  },
  {
   "cell_type": "markdown",
   "id": "05c4b524",
   "metadata": {},
   "source": [
    "### recherche et suppression des valeurs inférieur à 0 dans les prix"
   ]
  },
  {
   "cell_type": "code",
   "execution_count": null,
   "id": "0c86aa8e",
   "metadata": {
    "slideshow": {
     "slide_type": "-"
    }
   },
   "outputs": [],
   "source": [
    "product.loc[product['price']<0]"
   ]
  },
  {
   "cell_type": "code",
   "execution_count": null,
   "id": "ff07d95d",
   "metadata": {},
   "outputs": [],
   "source": [
    "product1 = product.drop(product.loc[product['price']<0].index)\n",
    "product1"
   ]
  },
  {
   "cell_type": "code",
   "execution_count": null,
   "id": "3a063ec6",
   "metadata": {
    "scrolled": true
   },
   "outputs": [],
   "source": [
    "t0 = product1.loc[product1['id_prod']=='T_0']\n",
    "t0"
   ]
  },
  {
   "cell_type": "code",
   "execution_count": null,
   "id": "797ae06b",
   "metadata": {},
   "outputs": [],
   "source": [
    "product1.describe(include='all')"
   ]
  },
  {
   "cell_type": "code",
   "execution_count": null,
   "id": "5e80307d",
   "metadata": {},
   "outputs": [],
   "source": [
    "product1.isnull().sum()"
   ]
  },
  {
   "cell_type": "code",
   "execution_count": null,
   "id": "d2079317",
   "metadata": {},
   "outputs": [],
   "source": [
    "product1.isna().sum()"
   ]
  },
  {
   "cell_type": "markdown",
   "id": "02ed5c3c",
   "metadata": {},
   "source": [
    "## groupage du dossier transaction et product"
   ]
  },
  {
   "cell_type": "code",
   "execution_count": null,
   "id": "ecdc2b57",
   "metadata": {},
   "outputs": [],
   "source": [
    "transac_prod = pd.merge(transaction2,product1,how='left', on='id_prod')\n",
    "transac_prod"
   ]
  },
  {
   "cell_type": "code",
   "execution_count": null,
   "id": "a21b1188",
   "metadata": {},
   "outputs": [],
   "source": [
    "transac_prod.info()"
   ]
  },
  {
   "cell_type": "code",
   "execution_count": null,
   "id": "5c5a597e",
   "metadata": {
    "scrolled": true
   },
   "outputs": [],
   "source": [
    "transac_prod.isnull().sum()"
   ]
  },
  {
   "cell_type": "code",
   "execution_count": null,
   "id": "da743dd8",
   "metadata": {},
   "outputs": [],
   "source": [
    "transac_prod.describe()"
   ]
  },
  {
   "cell_type": "code",
   "execution_count": null,
   "id": "6958ba59",
   "metadata": {
    "scrolled": false
   },
   "outputs": [],
   "source": [
    "group_categ= round(transac_prod.groupby('categ')['price'].mean(),2)\n",
    "group_categ"
   ]
  },
  {
   "cell_type": "code",
   "execution_count": null,
   "id": "8132dddf",
   "metadata": {
    "scrolled": false
   },
   "outputs": [],
   "source": [
    "group_categ.iloc[0]"
   ]
  },
  {
   "cell_type": "code",
   "execution_count": null,
   "id": "152afb5c",
   "metadata": {},
   "outputs": [],
   "source": [
    "df_categ0 = transac_prod.loc[transac_prod['categ']==0.0]\n",
    "df_categ0.describe()"
   ]
  },
  {
   "cell_type": "code",
   "execution_count": null,
   "id": "13c86a90",
   "metadata": {
    "scrolled": false
   },
   "outputs": [],
   "source": [
    "transac_prod.loc[transac_prod['categ'].isna()]\n"
   ]
  },
  {
   "cell_type": "markdown",
   "id": "63a9c9cf",
   "metadata": {},
   "source": [
    "### remplacement des valeurs NaN dans 'categ' par 0.0"
   ]
  },
  {
   "cell_type": "code",
   "execution_count": null,
   "id": "e3d3588d",
   "metadata": {},
   "outputs": [],
   "source": [
    "transac_prod['categ'].fillna(value=0.0, inplace=True)"
   ]
  },
  {
   "cell_type": "markdown",
   "id": "f18181ff",
   "metadata": {},
   "source": [
    "### imputation par la moyenne pour les prix affichant NaN dans la categorie 0.0"
   ]
  },
  {
   "cell_type": "code",
   "execution_count": null,
   "id": "a1ecd18f",
   "metadata": {},
   "outputs": [],
   "source": [
    "transac_prod['price'].fillna(value=group_categ.iloc[0],inplace=True)"
   ]
  },
  {
   "cell_type": "code",
   "execution_count": null,
   "id": "f59b270d",
   "metadata": {
    "scrolled": true
   },
   "outputs": [],
   "source": [
    "transac_prod.info()"
   ]
  },
  {
   "cell_type": "code",
   "execution_count": null,
   "id": "8f610f21",
   "metadata": {
    "scrolled": true
   },
   "outputs": [],
   "source": [
    "transac_prod.info()"
   ]
  },
  {
   "cell_type": "markdown",
   "id": "d8d3e47c",
   "metadata": {},
   "source": [
    "### chargement du dossier customers "
   ]
  },
  {
   "cell_type": "code",
   "execution_count": null,
   "id": "873dac41",
   "metadata": {},
   "outputs": [],
   "source": [
    "customer = pd.read_csv('customers.csv')\n",
    "customer.head()"
   ]
  },
  {
   "cell_type": "code",
   "execution_count": null,
   "id": "116db4d9",
   "metadata": {},
   "outputs": [],
   "source": [
    "customer.describe(include='all')"
   ]
  },
  {
   "cell_type": "code",
   "execution_count": null,
   "id": "18260dc0",
   "metadata": {},
   "outputs": [],
   "source": [
    "customer.info()"
   ]
  },
  {
   "cell_type": "code",
   "execution_count": null,
   "id": "7a687742",
   "metadata": {},
   "outputs": [],
   "source": [
    "duplicate_customer = customer[customer.duplicated()]\n",
    "duplicate_customer"
   ]
  },
  {
   "cell_type": "code",
   "execution_count": null,
   "id": "cbed5253",
   "metadata": {},
   "outputs": [],
   "source": [
    "customer.isnull().sum()"
   ]
  },
  {
   "cell_type": "code",
   "execution_count": null,
   "id": "d152d667",
   "metadata": {
    "scrolled": false
   },
   "outputs": [],
   "source": [
    "customer.isna().sum()"
   ]
  },
  {
   "cell_type": "code",
   "execution_count": null,
   "id": "3ce1b1f1",
   "metadata": {
    "scrolled": true
   },
   "outputs": [],
   "source": [
    "customer.sort_values([\"client_id\"], axis=0, ascending=False, inplace=True)\n",
    "customer.head()"
   ]
  },
  {
   "cell_type": "markdown",
   "id": "460bf5c5",
   "metadata": {},
   "source": [
    "### découverte de 2 clients témoin 'ct_0' et 'ct_1' que je supprime"
   ]
  },
  {
   "cell_type": "code",
   "execution_count": null,
   "id": "8ad50f96",
   "metadata": {},
   "outputs": [],
   "source": [
    "customer =customer.drop(customer.loc[customer['client_id']=='ct_0'].index)\n",
    "customer =customer.drop(customer.loc[customer['client_id']=='ct_1'].index)\n",
    "customer.sort_values([\"client_id\"], axis=0, ascending=False, inplace=True)\n",
    "customer.head()"
   ]
  },
  {
   "cell_type": "markdown",
   "id": "2b83a6e4",
   "metadata": {},
   "source": [
    "### création de la colonne age"
   ]
  },
  {
   "cell_type": "code",
   "execution_count": null,
   "id": "30b240c9",
   "metadata": {
    "scrolled": false
   },
   "outputs": [],
   "source": [
    "customer['age'] = 2023-customer['birth']\n",
    "customer.head()"
   ]
  },
  {
   "cell_type": "markdown",
   "id": "7ecee02c",
   "metadata": {},
   "source": [
    "### vérification par describe si pas d'age abérants"
   ]
  },
  {
   "cell_type": "code",
   "execution_count": null,
   "id": "9dc4bfe5",
   "metadata": {},
   "outputs": [],
   "source": [
    "customer.describe()"
   ]
  },
  {
   "cell_type": "markdown",
   "id": "7de3a8cc",
   "metadata": {},
   "source": [
    "### création d'une colonne de découpage par tranche d'age"
   ]
  },
  {
   "cell_type": "code",
   "execution_count": null,
   "id": "f0ed1798",
   "metadata": {},
   "outputs": [],
   "source": [
    "customer['tranche age'] = pd.cut(x=customer['age'], bins=[1,20,30,40,50,60,70,80,100],\n",
    "                    labels=['1 à 20','21 à 30','31 à 40','41 à 50','51 à 60',\n",
    "                            '61 à 70','71 à 80' ,'81 à 100'],include_lowest=True)\n",
    "customer"
   ]
  },
  {
   "cell_type": "markdown",
   "id": "a81e2a7b",
   "metadata": {},
   "source": [
    "## groupage des 2 premiers dossier avec le dossier 'customer'"
   ]
  },
  {
   "cell_type": "code",
   "execution_count": null,
   "id": "8d7534ed",
   "metadata": {},
   "outputs": [],
   "source": [
    "df_total = pd.merge(transac_prod,customer,how='left',on='client_id')\n",
    "df_total"
   ]
  },
  {
   "cell_type": "code",
   "execution_count": null,
   "id": "819cff0b",
   "metadata": {},
   "outputs": [],
   "source": [
    "df_total.isnull().sum()"
   ]
  },
  {
   "cell_type": "code",
   "execution_count": null,
   "id": "9db0b5f0",
   "metadata": {
    "scrolled": true
   },
   "outputs": [],
   "source": [
    "df_total.isna().sum()"
   ]
  },
  {
   "cell_type": "markdown",
   "id": "10840a69",
   "metadata": {},
   "source": [
    "### recherche si des clients ont des transactions anormalement élevées"
   ]
  },
  {
   "cell_type": "code",
   "execution_count": null,
   "id": "0db97692",
   "metadata": {
    "scrolled": false
   },
   "outputs": [],
   "source": [
    "pro = df_total['client_id'].value_counts().reset_index().head(10)\n",
    "pro.sort_values(by='client_id',ascending=False).head()"
   ]
  },
  {
   "cell_type": "markdown",
   "id": "b2f9fd88",
   "metadata": {},
   "source": [
    "### moyenne des transactions par clients"
   ]
  },
  {
   "cell_type": "code",
   "execution_count": null,
   "id": "2a905b35",
   "metadata": {},
   "outputs": [],
   "source": [
    "round(df_total['client_id'].value_counts().mean(),2)"
   ]
  },
  {
   "cell_type": "markdown",
   "id": "64f508c4",
   "metadata": {},
   "source": [
    "### évaluation de ces clients dit 'professionnels' et suppresion de la liste de clients pour la suite des analyses"
   ]
  },
  {
   "cell_type": "code",
   "execution_count": null,
   "id": "068877ac",
   "metadata": {},
   "outputs": [],
   "source": [
    "list_pro = ('c_1609','c_6714','c_3454','c_4958')\n",
    "\n",
    "client_pro = df_total.loc[df_total['client_id'].isin(list_pro)] \n"
   ]
  },
  {
   "cell_type": "code",
   "execution_count": null,
   "id": "1e04a970",
   "metadata": {},
   "outputs": [],
   "source": [
    "df_total1 = df_total.drop(df_total.loc[df_total['client_id']=='c_1609'].index)"
   ]
  },
  {
   "cell_type": "code",
   "execution_count": null,
   "id": "58aad213",
   "metadata": {},
   "outputs": [],
   "source": [
    "df_total1 = df_total1.drop(df_total1.loc[df_total['client_id']=='c_6714'].index)\n"
   ]
  },
  {
   "cell_type": "code",
   "execution_count": null,
   "id": "f0274956",
   "metadata": {},
   "outputs": [],
   "source": [
    "df_total1 = df_total1.drop(df_total1.loc[df_total['client_id']=='c_3454'].index)\n"
   ]
  },
  {
   "cell_type": "code",
   "execution_count": null,
   "id": "a1f76375",
   "metadata": {},
   "outputs": [],
   "source": [
    "df_total1 = df_total1.drop(df_total1.loc[df_total['client_id']=='c_4958'].index)"
   ]
  },
  {
   "cell_type": "markdown",
   "id": "c2a5b028",
   "metadata": {},
   "source": [
    "### groupage du dossier globale des ventes par mois "
   ]
  },
  {
   "cell_type": "code",
   "execution_count": null,
   "id": "ba8af1b1",
   "metadata": {
    "scrolled": false
   },
   "outputs": [],
   "source": [
    "group_mois0 =df_total1.groupby(pd.Grouper(key='date', freq='1M')).sum()\n",
    "group_mois0"
   ]
  },
  {
   "cell_type": "markdown",
   "id": "8d144262",
   "metadata": {},
   "source": [
    "## zoom sur le mois d'octobre pour identifier le problème et voir la marche à suivre"
   ]
  },
  {
   "cell_type": "markdown",
   "id": "aba8af06",
   "metadata": {},
   "source": [
    "### on constate un probleme de CA sur octobre 2021 donc on va voir ceci sur un graphique"
   ]
  },
  {
   "cell_type": "code",
   "execution_count": null,
   "id": "c463d512",
   "metadata": {
    "scrolled": false
   },
   "outputs": [],
   "source": [
    "ca_jour0= df_total1.groupby(['date']).sum()\n",
    "loc_ca_jour_octobre = ca_jour0.loc['2021-10-01':'2021-10-31']\n",
    "plt.figure(figsize=(12,8))\n",
    "x= loc_ca_jour_octobre.index\n",
    "y= loc_ca_jour_octobre['price']\n",
    "plt.plot(x,y,label='CA octobre 2021')\n",
    "plt.xlabel('date',size=14)\n",
    "plt.ylabel(\"chiffre d'affaires \",size=14)\n",
    "plt.xticks(rotation= 45)\n",
    "plt.grid()\n",
    "plt.legend()\n",
    "plt.title(\"Courbe du chiffre d'affaires octobre 2021\",size=18)\n",
    "plt.show()            "
   ]
  },
  {
   "cell_type": "markdown",
   "id": "d20566f7",
   "metadata": {},
   "source": [
    "## au vue de la courbe on constate un problème de chiffre d'affaires sur une majorité du mois d'octobre 2021"
   ]
  },
  {
   "cell_type": "code",
   "execution_count": null,
   "id": "b78d32c1",
   "metadata": {},
   "outputs": [],
   "source": [
    "dfoctobre =df_total1.set_index(df_total1['date'])\n",
    "vente_octobre02_27= dfoctobre.loc['2021-10-02':'2021-10-27']\n",
    "plt.figure(figsize = (6,6))\n",
    "vente_octobre02_27['categ'].value_counts(normalize=True).plot(kind='pie', autopct='%1.0f%%')\n",
    "plt.ylabel(\"\")\n",
    "plt.title(\"Répartition CA selon catégories - Octobre entre le 02 et le 27 \",size=18)\n",
    "plt.ylabel(\"Chiffre d'affaire\",size=14)\n",
    "plt.legend()\n",
    "plt.show()\n"
   ]
  },
  {
   "cell_type": "markdown",
   "id": "77e9e01f",
   "metadata": {},
   "source": [
    "# suppression du mois d'octobre en totalité"
   ]
  },
  {
   "cell_type": "code",
   "execution_count": null,
   "id": "2c98b743",
   "metadata": {
    "scrolled": true
   },
   "outputs": [],
   "source": [
    "exept_oct = (df_total1['date'] <'2021-10-01' ) | (df_total1['date'] > '2021-10-31')\n",
    "df4 = df_total1.loc[exept_oct]\n",
    "df4.head()"
   ]
  },
  {
   "cell_type": "markdown",
   "id": "1c529531",
   "metadata": {},
   "source": [
    "# 2ème PARTIE: CALCULS ET ANLAYSES DES DONNEES"
   ]
  },
  {
   "cell_type": "markdown",
   "id": "771f1d92",
   "metadata": {},
   "source": [
    "## 2-1:QUESTIONS D'ANTOINE"
   ]
  },
  {
   "cell_type": "markdown",
   "id": "916e00b5",
   "metadata": {},
   "source": [
    "### calcul du chiffre d'affaires par jour puis par mois et par catégories"
   ]
  },
  {
   "cell_type": "code",
   "execution_count": null,
   "id": "ee190269",
   "metadata": {},
   "outputs": [],
   "source": [
    "ca_jour= df4.groupby(['date']).sum()"
   ]
  },
  {
   "cell_type": "code",
   "execution_count": null,
   "id": "1e2b620b",
   "metadata": {
    "scrolled": true
   },
   "outputs": [],
   "source": [
    "ca_mois_categ = df4.groupby([pd.Grouper(key='date', freq='1M'),'categ']).sum()\n",
    "ca_mois_categ = ca_mois_categ.reset_index('categ')"
   ]
  },
  {
   "cell_type": "code",
   "execution_count": null,
   "id": "634e706e",
   "metadata": {},
   "outputs": [],
   "source": [
    "cat0_mois = ca_mois_categ.loc[ca_mois_categ['categ']==0.0]\n",
    "cat1_mois =ca_mois_categ.loc[ca_mois_categ['categ']==1.0]\n",
    "cat2_mois = ca_mois_categ.loc[ca_mois_categ['categ']==2.0]"
   ]
  },
  {
   "cell_type": "code",
   "execution_count": null,
   "id": "c6defaa9",
   "metadata": {},
   "outputs": [],
   "source": [
    "CA_jour_moy = round(ca_jour['price'].mean(),2)\n",
    "print('le chiffre  d_affaires journalier moyen par jour est de',CA_jour_moy,'euros')"
   ]
  },
  {
   "cell_type": "code",
   "execution_count": null,
   "id": "90519d46",
   "metadata": {
    "scrolled": false
   },
   "outputs": [],
   "source": [
    "plt.figure(figsize=(18,10))\n",
    "x= ca_jour.index\n",
    "y= ca_jour['price']\n",
    "plt.plot(x,y,label='Chiffre d_affaires jour')\n",
    "plt.xlabel('date',size=14)\n",
    "plt.ylabel('chiffre d_affaires journalier',size=14)\n",
    "plt.grid()\n",
    "plt.legend()\n",
    "plt.title(\"évolution du chiffre d'affaires journalier\",size=20)\n",
    "plt.show()            "
   ]
  },
  {
   "cell_type": "code",
   "execution_count": null,
   "id": "9cb3becb",
   "metadata": {
    "scrolled": false
   },
   "outputs": [],
   "source": [
    "group_mois =df4.groupby(pd.Grouper(key='date', freq='1M')).sum()\n",
    "group_mois= group_mois.drop('2021-10-31')"
   ]
  },
  {
   "cell_type": "markdown",
   "id": "cf54d780",
   "metadata": {},
   "source": [
    "### moyenne CA mensuel"
   ]
  },
  {
   "cell_type": "code",
   "execution_count": null,
   "id": "0b4662b9",
   "metadata": {},
   "outputs": [],
   "source": [
    "CA_mois_moy = round(group_mois['price'].mean(),2)\n",
    "print('le chiffre d_affaires mensuel moyen est de',CA_mois_moy,'euros')"
   ]
  },
  {
   "cell_type": "markdown",
   "id": "4f568b1b",
   "metadata": {},
   "source": [
    "###  création de la colonne moyenne mobile "
   ]
  },
  {
   "cell_type": "code",
   "execution_count": null,
   "id": "d82d2ad8",
   "metadata": {
    "scrolled": false
   },
   "outputs": [],
   "source": [
    "group_mois['moyenne mobile']= group_mois.price.rolling(5).mean()\n"
   ]
  },
  {
   "cell_type": "markdown",
   "id": "6e181b17",
   "metadata": {},
   "source": [
    "### courbes du chiffre d'affaire total et de la moyenne mobile"
   ]
  },
  {
   "cell_type": "code",
   "execution_count": null,
   "id": "0f00f2b8",
   "metadata": {
    "scrolled": false
   },
   "outputs": [],
   "source": [
    "plt.figure(figsize=(16,10))\n",
    "x= group_mois.index\n",
    "y= group_mois['price']\n",
    "y1= group_mois['moyenne mobile']\n",
    "plt.plot(x,y1,color='green',label='moyenne mobile')\n",
    "plt.plot(x,y,label='CA mensuel')\n",
    "plt.scatter(x,y,color='red')\n",
    "plt.xlabel('date',size=14)\n",
    "plt.ylabel(\"chiffre d'affaires mensuel\",size=14)\n",
    "plt.xticks(rotation= 45)\n",
    "plt.grid()\n",
    "plt.legend()\n",
    "plt.title(\"Courbe de la moyenne mobile et du chiffre d'affaires mensuel\",size=18)\n",
    "plt.show()            "
   ]
  },
  {
   "cell_type": "markdown",
   "id": "9e4f7323",
   "metadata": {},
   "source": [
    "### courbes des chiffres d'affaires par catégories et leur moyenne mobile respective"
   ]
  },
  {
   "cell_type": "code",
   "execution_count": null,
   "id": "19a0c4fa",
   "metadata": {
    "scrolled": false
   },
   "outputs": [],
   "source": [
    "plt.figure(figsize=(16,10))\n",
    "x= cat0_mois.index\n",
    "y= cat0_mois['price']\n",
    "y3 = cat0_mois.price.rolling(5).mean()\n",
    "y4 =cat1_mois.price.rolling(5).mean()\n",
    "y5=cat2_mois.price.rolling(5).mean()\n",
    "x1=cat1_mois.index\n",
    "y1= cat1_mois['price']\n",
    "x2=cat2_mois.index\n",
    "y2= cat2_mois['price']\n",
    "plt.plot(x,y,label='CA catégorie 0')\n",
    "plt.plot(x,y1,color='green',label='CA catégorie 1')\n",
    "plt.plot(x2,y2,color='red',label='CA catégorie 2')\n",
    "plt.plot(x,y3, label='moyenne mobile catégorie 0', color='blue',linestyle = '--' )\n",
    "plt.plot(x,y4, label='moyenne mobile catégorie 1', color='green',linestyle = '--' )\n",
    "plt.plot(x,y5, label='moyenne mobile catégorie 2', color='red',linestyle = '--' )\n",
    "plt.xlabel('date',size=14)\n",
    "plt.ylabel(\"chiffre d'affaires mensuel\",size=14)\n",
    "plt.xticks(rotation= 45)\n",
    "plt.grid()\n",
    "plt.legend()\n",
    "plt.title(\"Courbes des chiffres d'affaires par catégorie et leur moyenne mobile\",size=18)\n",
    "plt.show()            "
   ]
  },
  {
   "cell_type": "code",
   "execution_count": null,
   "id": "59bf4094",
   "metadata": {},
   "outputs": [],
   "source": [
    "plt.figure(figsize=(16,10))\n",
    "x= cat0_mois.index\n",
    "y= cat0_mois['price']\n",
    "y3 = cat0_mois.price.rolling(5).mean()\n",
    "y4 =cat1_mois.price.rolling(5).mean()\n",
    "y5=cat2_mois.price.rolling(5).mean()\n",
    "x1=cat1_mois.index\n",
    "y1= cat1_mois['price']\n",
    "x2=cat2_mois.index\n",
    "y2= cat2_mois['price']\n",
    "\n",
    "plt.plot(x,y3, label='moyenne mobile catégorie 0', color='blue',linestyle = '--' )\n",
    "plt.plot(x,y4, label='moyenne mobile catégorie 1', color='green',linestyle = '--' )\n",
    "plt.plot(x,y5, label='moyenne mobile catégorie 2', color='red',linestyle = '--' )\n",
    "plt.xlabel('date',size=14)\n",
    "plt.ylabel(\"chiffre d'affaires mensuel\",size=14)\n",
    "plt.xticks(rotation= 45)\n",
    "plt.grid()\n",
    "plt.legend()\n",
    "plt.title(\"Courbes des moyennes mobiles des chiffres d'affaires de chaque catégorie\",size=18)\n",
    "plt.show()            "
   ]
  },
  {
   "cell_type": "markdown",
   "id": "08c836c9",
   "metadata": {},
   "source": [
    "### chiffre d'affaires total avant suppression des  clients pro"
   ]
  },
  {
   "cell_type": "code",
   "execution_count": null,
   "id": "2718cdf5",
   "metadata": {
    "scrolled": true
   },
   "outputs": [],
   "source": [
    "CA_total = round(transac_prod['price'].sum(),2)\n",
    "print('le chiffre d_affaires total est de',CA_total,'euros')"
   ]
  },
  {
   "cell_type": "markdown",
   "id": "363bc256",
   "metadata": {},
   "source": [
    "### chiffre d'affaires sans les clients dit professionnels"
   ]
  },
  {
   "cell_type": "code",
   "execution_count": null,
   "id": "c3e85d8d",
   "metadata": {},
   "outputs": [],
   "source": [
    "CA_total2 = round(df_total1.price.sum(),2)\n",
    "print('le chiffre d_affaires des clients dit professionnels est de',client_pro.price.sum(),'euros')\n",
    "print('le chiffre d_affaires pro représente',round((client_pro.price.sum())/(df_total.price.sum())*100,2),\n",
    "      '% du chiffre d_affaires total')\n",
    "print('le chiffre d_affaires sans les clients dit professionnels est de',CA_total2,'euros')"
   ]
  },
  {
   "cell_type": "markdown",
   "id": "fa08941e",
   "metadata": {},
   "source": [
    "### meilleures ventes en fonction du chiffre d'affaires"
   ]
  },
  {
   "cell_type": "code",
   "execution_count": null,
   "id": "d3991238",
   "metadata": {
    "scrolled": false
   },
   "outputs": [],
   "source": [
    "df_id_prod = transac_prod.groupby('id_prod').sum()"
   ]
  },
  {
   "cell_type": "code",
   "execution_count": null,
   "id": "5f19f9d4",
   "metadata": {
    "scrolled": false
   },
   "outputs": [],
   "source": [
    "top_prod= df_id_prod.sort_values(by='price',ascending=False).head(5)\n",
    "top_prod\n"
   ]
  },
  {
   "cell_type": "code",
   "execution_count": null,
   "id": "6fdffc66",
   "metadata": {},
   "outputs": [],
   "source": [
    "plt.figure(figsize=(10,6))\n",
    "x=top_prod.index\n",
    "y=top_prod['price']\n",
    "plt.bar(x,y)\n",
    "plt.title(\"Meilleures ventes en fonction du chiffre d'affaires\",size=18)\n",
    "plt.ylabel(\"chiffre d'affaires\",size=14)\n",
    "plt.xlabel('identifiant produit',size=14)\n",
    "plt.show()"
   ]
  },
  {
   "cell_type": "markdown",
   "id": "c9873113",
   "metadata": {},
   "source": [
    "### meilleures ventes en fonction du nombre de vente"
   ]
  },
  {
   "cell_type": "code",
   "execution_count": null,
   "id": "a0dadf28",
   "metadata": {},
   "outputs": [],
   "source": [
    "df_total['id_prod'].value_counts().head()"
   ]
  },
  {
   "cell_type": "markdown",
   "id": "2e70b7a8",
   "metadata": {},
   "source": [
    "### moins bonnes ventes en fonction du chiffres d'affaires"
   ]
  },
  {
   "cell_type": "code",
   "execution_count": null,
   "id": "c2174924",
   "metadata": {},
   "outputs": [],
   "source": [
    "flop_prod= df_id_prod.sort_values(by='price',ascending=True).head()\n",
    "flop_prod"
   ]
  },
  {
   "cell_type": "code",
   "execution_count": null,
   "id": "8552f6c8",
   "metadata": {},
   "outputs": [],
   "source": [
    "plt.figure(figsize=(10,6))\n",
    "x=flop_prod.index\n",
    "y=flop_prod['price']\n",
    "plt.bar(x,y)\n",
    "plt.title(\"Moins bonnes ventes en fonction du chiffre d'affaires\",size=18)\n",
    "plt.ylabel(\"chiffre d'affaires\",size=14)\n",
    "plt.xlabel('identifiant produit',size=14)\n",
    "plt.show()"
   ]
  },
  {
   "cell_type": "markdown",
   "id": "aa88f3cb",
   "metadata": {},
   "source": [
    "### moins bonnes ventes en fonction du nombre de vente"
   ]
  },
  {
   "cell_type": "code",
   "execution_count": null,
   "id": "ee5d125e",
   "metadata": {
    "scrolled": true
   },
   "outputs": [],
   "source": [
    "df_total['id_prod'].value_counts().tail()"
   ]
  },
  {
   "cell_type": "markdown",
   "id": "042c248f",
   "metadata": {},
   "source": [
    "## J'ai effectué cette double analyse des tops et des flops car Annabelle dans son mail nous indique vouloir ces analyses pour faire évoluer sa stratégie marketing et peut être faire évoluer ses prix donc ici peut être faut il faire évoluer les prix des produits les plus vendus pour qu'ils deviennent ceux dont le CA est le meilleur"
   ]
  },
  {
   "cell_type": "markdown",
   "id": "23a5c485",
   "metadata": {},
   "source": [
    "### calcul et visualisation du chiffre d'affaires par âge"
   ]
  },
  {
   "cell_type": "code",
   "execution_count": null,
   "id": "0fedad5d",
   "metadata": {},
   "outputs": [],
   "source": [
    "group_age_som = round(df_total.groupby('age').sum(),2)\n",
    "top_age = group_age_som.sort_values(by='price',ascending=False).head()\n",
    "top_age['price']"
   ]
  },
  {
   "cell_type": "code",
   "execution_count": null,
   "id": "fcdde6cd",
   "metadata": {},
   "outputs": [],
   "source": [
    "plt.figure(figsize=(12,8))\n",
    "x=group_age_som.index\n",
    "y=group_age_som['price']\n",
    "plt.bar(x,y)\n",
    "plt.title(\"Chiffre d'affaires en fonction de l'age\",size=18)\n",
    "plt.ylabel(\"Chiffre d'affaires\",size=14)\n",
    "plt.xlabel('Age',size=14)\n",
    "plt.show()"
   ]
  },
  {
   "cell_type": "code",
   "execution_count": null,
   "id": "1c37a517",
   "metadata": {},
   "outputs": [],
   "source": [
    "print(\"l'âge moyen des clients est de\",round(df4['age'].mean(),2),'ans')"
   ]
  },
  {
   "cell_type": "code",
   "execution_count": null,
   "id": "ed84329f",
   "metadata": {},
   "outputs": [],
   "source": [
    "print(\"l'âge median des clients est de\",round(df4['age'].median(),2),'ans')"
   ]
  },
  {
   "cell_type": "markdown",
   "id": "09ed899b",
   "metadata": {},
   "source": [
    "# Les ages de 43 et 19 ans représentent les meilleurs chiffres d'affaires"
   ]
  },
  {
   "cell_type": "markdown",
   "id": "e4f763e3",
   "metadata": {},
   "source": [
    "### calcul et visualisation du chiffre d'affaires par tranche d'âge"
   ]
  },
  {
   "cell_type": "code",
   "execution_count": null,
   "id": "d8bb0194",
   "metadata": {
    "scrolled": false
   },
   "outputs": [],
   "source": [
    "group_tranch_age_som = round(df4.groupby('tranche age').sum(),2)\n",
    "plt.figure(figsize=(12,6))\n",
    "x=group_tranch_age_som.index\n",
    "y=group_tranch_age_som['price']\n",
    "plt.bar(x,y)\n",
    "plt.title(\"Chiffre d'affaires en fonction des tranches d'age\",size=18)\n",
    "plt.ylabel(\"Chiffre d'affaires\",size=14)\n",
    "plt.xlabel(\"Tranche d'age\",size=14)\n",
    "plt.show()"
   ]
  },
  {
   "cell_type": "markdown",
   "id": "f811f3d9",
   "metadata": {},
   "source": [
    "# la globalité du CA se regroupe sur 4 tranches alant de 21 à 60ans"
   ]
  },
  {
   "cell_type": "markdown",
   "id": "1549fa1e",
   "metadata": {},
   "source": [
    "### répartition des ventes par sexe"
   ]
  },
  {
   "cell_type": "code",
   "execution_count": null,
   "id": "c37c5fee",
   "metadata": {
    "scrolled": false
   },
   "outputs": [],
   "source": [
    "ca_sex= df4.groupby([\"sex\"]).sum()\n",
    "femme = round(ca_sex.loc['f','price']*100/CA_total2,1)\n",
    "homme =round(ca_sex.loc['m','price']*100/CA_total2,1)"
   ]
  },
  {
   "cell_type": "code",
   "execution_count": null,
   "id": "ca5125c6",
   "metadata": {
    "scrolled": false
   },
   "outputs": [],
   "source": [
    "plt.figure(figsize = (6,6))\n",
    "plt.pie(labels = ['homme','femme' ],\n",
    "        x=[homme,femme],\n",
    "        autopct='%.2f%%')\n",
    "plt.legend()\n",
    "plt.title('répartition des ventes par sexe')\n",
    "plt.show()"
   ]
  },
  {
   "cell_type": "markdown",
   "id": "0783d4fc",
   "metadata": {},
   "source": [
    "### calcul du panier moyen"
   ]
  },
  {
   "cell_type": "code",
   "execution_count": null,
   "id": "716fc49e",
   "metadata": {},
   "outputs": [],
   "source": [
    "pan_moy=df4.groupby(['session_id']).sum()\n",
    "print('le panier moyen est de',round(pan_moy['price'].mean(),2),'euros')\n",
    "print('le panier median est de',round(pan_moy['price'].median(),2),'euros')"
   ]
  },
  {
   "cell_type": "markdown",
   "id": "dbc057b9",
   "metadata": {},
   "source": [
    "### graphique de la répartition des ventes par catégories"
   ]
  },
  {
   "cell_type": "code",
   "execution_count": null,
   "id": "0981d7d7",
   "metadata": {},
   "outputs": [],
   "source": [
    "df_categ = df4.groupby('categ').sum()\n",
    "cat0 =round(df_categ.loc[0.0,'price']*100/CA_total2,2)\n",
    "cat1 =round(df_categ.loc[1.0,'price']*100/CA_total2,2)\n",
    "cat2 =round(df_categ.loc[2.0,'price']*100/CA_total2,2)"
   ]
  },
  {
   "cell_type": "code",
   "execution_count": null,
   "id": "e3ac3e72",
   "metadata": {
    "scrolled": false
   },
   "outputs": [],
   "source": [
    "plt.figure(figsize = (6,6))\n",
    "plt.pie(labels = ['catégorie 0','catégorie 1','catégorie 2' ],\n",
    "        x=[cat0,cat1,cat2],\n",
    "        autopct='%.2f%%',colors=['blue','green','red'])\n",
    "plt.title('répartition des ventes par catégories')\n",
    "plt.legend(bbox_to_anchor=(1.2, 1) )\n",
    "plt.show()"
   ]
  },
  {
   "cell_type": "markdown",
   "id": "253855ef",
   "metadata": {},
   "source": [
    "### graphique de répartition des ventes par catégories et par sexe"
   ]
  },
  {
   "cell_type": "code",
   "execution_count": null,
   "id": "e98638f4",
   "metadata": {},
   "outputs": [],
   "source": [
    "df_categ_sex = df4.groupby(['categ','sex']).sum()\n",
    "df_categ_sex1 =df_categ_sex.reset_index('sex')\n",
    "cat0_fem =round(df_categ_sex.iloc[0,0]*100/CA_total2,2)\n",
    "cat1_fem =round(df_categ_sex.iloc[2,0]*100/CA_total2,2)\n",
    "cat2_fem =round(df_categ_sex.iloc[4,0]*100/CA_total2,2)\n",
    "cat0_hom =round(df_categ_sex.iloc[1,0]*100/CA_total2,2)\n",
    "cat1_hom =round(df_categ_sex.iloc[3,0]*100/CA_total2,2)\n",
    "cat2_hom =round(df_categ_sex.iloc[5,0]*100/CA_total2,2)"
   ]
  },
  {
   "cell_type": "code",
   "execution_count": null,
   "id": "1b00613f",
   "metadata": {},
   "outputs": [],
   "source": [
    "df4.groupby(['categ','sex']).sum()"
   ]
  },
  {
   "cell_type": "code",
   "execution_count": null,
   "id": "44f852cd",
   "metadata": {},
   "outputs": [],
   "source": [
    "plt.figure(figsize = (6,6))\n",
    "x1=[cat0_hom,cat1_hom,cat2_hom]\n",
    "plt.pie(x1,labels = ['catégorie 0 homme','catégorie 1 homme','catégorie 2 homme'], autopct='%.2f%%',\n",
    "        colors=['moccasin','yellow','orange'])\n",
    "plt.title('répartition des ventes par catégorie pour les hommes',size=18)\n",
    "plt.show()\n",
    "\n",
    "plt.figure(figsize = (6,6))\n",
    "x=[cat0_fem,cat1_fem,cat2_fem]\n",
    "plt.pie(x,labels = ['catégorie 0 femme','catégorie 1 femme','catégorie 2 femme'],autopct='%.2f%%',\n",
    "        colors=['lightblue','lightskyblue','royalblue'])\n",
    "plt.title('répartition des ventes par catégorie pour les femmes',size=18)\n",
    "plt.show()"
   ]
  },
  {
   "cell_type": "markdown",
   "id": "3ca38432",
   "metadata": {},
   "source": [
    "### graphique et calcul de la fréquence d'achats par clients"
   ]
  },
  {
   "cell_type": "code",
   "execution_count": null,
   "id": "6d5f4c88",
   "metadata": {},
   "outputs": [],
   "source": [
    "round(df4['client_id'].value_counts().mean(),2)"
   ]
  },
  {
   "cell_type": "code",
   "execution_count": null,
   "id": "8b82de11",
   "metadata": {},
   "outputs": [],
   "source": [
    "round(df4['client_id'].value_counts().median(),2)"
   ]
  },
  {
   "cell_type": "code",
   "execution_count": null,
   "id": "6b97499a",
   "metadata": {
    "scrolled": false
   },
   "outputs": [],
   "source": [
    "plt.figure(figsize = (10,8))\n",
    "plt.hist(df4['client_id'].value_counts(),bins=40)\n",
    "plt.title('Fréquence achat des clients',size=18)\n",
    "plt.xlabel('Fréquence',size=14)\n",
    "plt.ylabel('Nombre de clients',size=14)\n",
    "plt.show()"
   ]
  },
  {
   "cell_type": "code",
   "execution_count": null,
   "id": "5cf080d0",
   "metadata": {
    "scrolled": false
   },
   "outputs": [],
   "source": [
    "fid_client = df4.groupby('client_id').count().reset_index()\n",
    "fid_client['achat'] = fid_client.session_id\n",
    "fid_client = fid_client[['client_id', 'achat']]\n",
    "len(fid_client)"
   ]
  },
  {
   "cell_type": "code",
   "execution_count": null,
   "id": "a8ab03ab",
   "metadata": {},
   "outputs": [],
   "source": [
    "round(fid_client['achat'].mean(),2)"
   ]
  },
  {
   "cell_type": "code",
   "execution_count": null,
   "id": "e1d91679",
   "metadata": {},
   "outputs": [],
   "source": [
    "propo_client_moins = round(fid_client[fid_client['achat'] == 1].shape[0]*100/len(fid_client),2)\n",
    "print(\"la proportion de clients ne faisant qu'une commande est de\",propo_client_moins,'%')"
   ]
  },
  {
   "cell_type": "code",
   "execution_count": null,
   "id": "201178d3",
   "metadata": {},
   "outputs": [],
   "source": [
    "propo_client_plus = round(fid_client[fid_client['achat'] >= 10].shape[0]*100/len(fid_client),2)\n",
    "print(\"la proportion de clients faisant au moins 10 commandes est de\",propo_client_plus,'%')"
   ]
  },
  {
   "cell_type": "markdown",
   "id": "aa02b234",
   "metadata": {},
   "source": [
    "### graphique de la distribution des ages des clients"
   ]
  },
  {
   "cell_type": "code",
   "execution_count": null,
   "id": "dac8838e",
   "metadata": {
    "scrolled": false
   },
   "outputs": [],
   "source": [
    "plt.figure(figsize = (10,8))\n",
    "plt.hist(customer['tranche age'].sort_values(),bins=50)\n",
    "plt.title(\"Distribution des clients par tranche d'ages\",size=18)\n",
    "plt.xlabel('Age',size=14)\n",
    "plt.ylabel('Nombre de clients',size=14)\n",
    "plt.show()"
   ]
  },
  {
   "cell_type": "markdown",
   "id": "b2ba7c2e",
   "metadata": {},
   "source": [
    "### graphique du panier moyen en fonction du sexe"
   ]
  },
  {
   "cell_type": "code",
   "execution_count": null,
   "id": "8f4ea31e",
   "metadata": {
    "scrolled": false
   },
   "outputs": [],
   "source": [
    "session_sex = df4[[\"session_id\",\"sex\"]]\n",
    "panier_sex = pd.merge(session_sex,pan_moy, left_on=\"session_id\", right_on=\"session_id\")\n",
    "plt.figure(figsize=(10,8))\n",
    "sns.boxplot( y=panier_sex[\"sex\"], x=panier_sex[\"price\"] )\n",
    "plt.title('panier moyen par sexe',size=18)\n",
    "plt.show()"
   ]
  },
  {
   "cell_type": "markdown",
   "id": "c21b876f",
   "metadata": {},
   "source": [
    "### courbe de lorenz et coefficiant de Gini sans les 4 clients dit 'professionnels' ni le mois d'octobre 2021"
   ]
  },
  {
   "cell_type": "code",
   "execution_count": null,
   "id": "8dedc894",
   "metadata": {},
   "outputs": [],
   "source": [
    "price = df4['price'].values\n",
    "lorenz_price = np.cumsum(np.sort(price)) / price.sum()\n",
    "#Tri des individus dans l'ordre croissant des valeurs de la variable, \n",
    "#Calcul de la somme cumulée et normalisation en divisant par la somme des observations\n",
    "plt.figure(figsize = (8,6))\n",
    "plt.plot(np.linspace(0,1,len(lorenz_price)), lorenz_price, drawstyle='steps-post', color='rosybrown', label='Lorenz')\n",
    "plt.fill_between(np.linspace(0,1,len(lorenz_price)) ,lorenz_price , color='#539ecd')\n",
    "plt.plot([0, 1], [0, 1], 'r-', lw=2, label='Distribution égalitaire')\n",
    "\n",
    "plt.title('Courbe de Lorenz des prix de vente')\n",
    "plt.xlabel(\"Distribution des ventes\")\n",
    "plt.ylabel(\"Cumul des prix de ventes\")\n",
    "plt.show()"
   ]
  },
  {
   "cell_type": "code",
   "execution_count": null,
   "id": "456a3627",
   "metadata": {},
   "outputs": [],
   "source": [
    "aire_sous_lorenz = lorenz_price[:-1].sum()/len(lorenz_price) \n",
    "S = 0.5 - aire_sous_lorenz\n",
    "gini = round(2*S,3)\n",
    "gini"
   ]
  },
  {
   "cell_type": "markdown",
   "id": "2434ebb0",
   "metadata": {},
   "source": [
    "### courbe de lorenz et coefficiant de Gini avec les 4 clients dit 'professionnels' et avec le mois d'octobre 2021"
   ]
  },
  {
   "cell_type": "code",
   "execution_count": null,
   "id": "dd624330",
   "metadata": {},
   "outputs": [],
   "source": [
    "price1 = df_total['price'].values\n",
    "lorenz_price1 = np.cumsum(np.sort(price1)) / price1.sum()\n",
    "#Tri des individus dans l'ordre croissant des valeurs de la variable, \n",
    "#Calcul de la somme cumulée et normalisation en divisant par la somme des observations\n",
    "plt.figure(figsize = (8,6))\n",
    "plt.plot(np.linspace(0,1,len(lorenz_price1)), lorenz_price1, drawstyle='steps-post', color='rosybrown', label='Lorenz')\n",
    "plt.fill_between(np.linspace(0,1,len(lorenz_price1)) ,lorenz_price1 , color='#539ecd')\n",
    "plt.plot([0, 1], [0, 1], 'r-', lw=2, label='Distribution égalitaire')\n",
    "\n",
    "plt.title('Courbe de Lorenz avec les 4 clients pro et octobre')\n",
    "plt.xlabel(\"Distribution des ventes \")\n",
    "plt.ylabel(\"Cumul des prix de ventes \")\n",
    "plt.show()"
   ]
  },
  {
   "cell_type": "code",
   "execution_count": null,
   "id": "4f661d44",
   "metadata": {
    "scrolled": false
   },
   "outputs": [],
   "source": [
    "aire_sous_lorenz1 = lorenz_price1[:-1].sum()/len(lorenz_price1) \n",
    "S = 0.5 - aire_sous_lorenz1\n",
    "gini1 = round(2*S,3)\n",
    "gini1"
   ]
  },
  {
   "cell_type": "code",
   "execution_count": null,
   "id": "340ebb7b",
   "metadata": {},
   "outputs": [],
   "source": [
    "plt.figure(figsize = (10,8))\n",
    "plt.hist(product1['price'],bins=50)\n",
    "plt.xlabel('prix',size=12)\n",
    "plt.ylabel('féquence',size=12)\n",
    "plt.title('distibution des prix des livres',size=18)\n",
    "plt.show()"
   ]
  },
  {
   "cell_type": "markdown",
   "id": "de18fdcf",
   "metadata": {},
   "source": [
    "### graphique des prix en fonction de la catégorie"
   ]
  },
  {
   "cell_type": "code",
   "execution_count": null,
   "id": "5d3f959b",
   "metadata": {
    "scrolled": false
   },
   "outputs": [],
   "source": [
    "plt.figure(figsize=(10,8))\n",
    "my_colors = ['blue','green','red']\n",
    "sns.set_palette( my_colors )\n",
    "sns.boxplot( x=product1['categ'], y=product1['price'])\n",
    "plt.title('Prix selon catégorie')\n",
    "plt.ylabel('Prix')\n",
    "plt.xlabel('catégorie')\n",
    "plt.show()"
   ]
  },
  {
   "cell_type": "markdown",
   "id": "de6bcce7",
   "metadata": {},
   "source": [
    "## 2-2: QUESTION DE JULIE"
   ]
  },
  {
   "cell_type": "markdown",
   "id": "4c2f0a46",
   "metadata": {},
   "source": [
    "## graphique heatmap du lien entre sexe du client et les catégories de livres achetés"
   ]
  },
  {
   "cell_type": "code",
   "execution_count": null,
   "id": "1959ebbb",
   "metadata": {
    "scrolled": false
   },
   "outputs": [],
   "source": [
    "df_sex_categ = pd.crosstab(df4['sex'],df4['categ'])\n",
    "\n",
    "plt.figure(figsize=(10,8))\n",
    "sns.heatmap(df_sex_categ,cmap = 'coolwarm')\n",
    "plt.title('lien entre catégorie de livre et sexe du client',size=18)\n",
    "plt.xlabel('catégorie',size=14)\n",
    "plt.ylabel('sexe du client',size=14)\n",
    "plt.show()"
   ]
  },
  {
   "cell_type": "code",
   "execution_count": null,
   "id": "d90e9c18",
   "metadata": {},
   "outputs": [],
   "source": [
    "pd.crosstab(df4['sex'],df4['categ'])"
   ]
  },
  {
   "cell_type": "markdown",
   "id": "26510afd",
   "metadata": {},
   "source": [
    "### test de normalité de Shapiro"
   ]
  },
  {
   "cell_type": "code",
   "execution_count": null,
   "id": "b39c92d2",
   "metadata": {
    "scrolled": false
   },
   "outputs": [],
   "source": [
    "stat, p = shapiro(df_sex_categ)\n",
    "print('Statistics=%.3f, p=%.3f' % (stat, p))\n",
    "alpha = 0.05\n",
    "if p < alpha:\n",
    "    print('la distribution des données ne suit pas la loi normale p=%.3f' % p)\n",
    "else:\n",
    "    print('la distribution des données suit la loi normale p=%.3f' % p)"
   ]
  },
  {
   "cell_type": "markdown",
   "id": "b87713c0",
   "metadata": {},
   "source": [
    "### test d'indépendance du chi 2 sur variables quali/quali"
   ]
  },
  {
   "cell_type": "code",
   "execution_count": null,
   "id": "51fd70b0",
   "metadata": {},
   "outputs": [],
   "source": [
    "### On pose les hypothèses de départ :\n",
    "# H0 : Variables indépendantes si p-value > 5%\n",
    "# H1 : Variables non indépendantes si p-value < 5%\n",
    "    \n",
    "chi2, p, dof, ex = chi2_contingency(df_sex_categ, correction=False)"
   ]
  },
  {
   "cell_type": "code",
   "execution_count": null,
   "id": "9c53eb02",
   "metadata": {},
   "outputs": [],
   "source": [
    "p\n",
    "alpha = 0.05\n",
    "if p > alpha:\n",
    "\tprint('les echantillons ne sont pas corrélés (ne pas rejeter H0) p=%.3f' % p)\n",
    "else:\n",
    "\tprint('les echantillons sont corrélés (rejeter H0) p=%.3f' % p)"
   ]
  },
  {
   "cell_type": "markdown",
   "id": "51a3eea2",
   "metadata": {},
   "source": [
    "## graphique de relation ente age et panier moyen"
   ]
  },
  {
   "cell_type": "code",
   "execution_count": null,
   "id": "39f31637",
   "metadata": {
    "scrolled": false
   },
   "outputs": [],
   "source": [
    "session_age = df4[['session_id','age']]\n",
    "panier_age = pd.merge(session_age,pan_moy, left_on=\"session_id\", right_on=\"session_id\")\n",
    "plt.figure(figsize=(10,8))\n",
    "sns.regplot(y=panier_age['price'], x=panier_age['age_x'],ci = None,line_kws = {'color': 'red'})\n",
    "plt.title('Relation entre age et panier moyen',size=18)\n",
    "plt.ylabel('Montant du panier',size=14)\n",
    "plt.xlabel('Age',size=14)\n",
    "plt.show()"
   ]
  },
  {
   "cell_type": "markdown",
   "id": "d219cb0e",
   "metadata": {},
   "source": [
    "### test de normalité de Shapiro "
   ]
  },
  {
   "cell_type": "code",
   "execution_count": null,
   "id": "295ad466",
   "metadata": {
    "scrolled": false
   },
   "outputs": [],
   "source": [
    "stat, p = shapiro(pan_moy)\n",
    "print('Statistics=%.3f, p=%.3f' % (stat, p))\n",
    "alpha = 0.05\n",
    "if p < alpha:\n",
    "    print('la distribution des données ne suit pas la loi normale p=%.3f' % p)\n",
    "else:\n",
    "    print('la distribution des données suit la loi normale p=%.3f' % p)"
   ]
  },
  {
   "cell_type": "markdown",
   "id": "5a0941e2",
   "metadata": {},
   "source": [
    "### Test non paramétrique de corrélation de Spearman sur variables quanti/quanti"
   ]
  },
  {
   "cell_type": "code",
   "execution_count": null,
   "id": "79c4e026",
   "metadata": {},
   "outputs": [],
   "source": [
    "### On pose les hypothèses de départ :\n",
    "# H0 : Variables indépendantes si p-value > 5%\n",
    "# H1 : Variables non indépendantes si p-value < 5%\n",
    "\n",
    "coef, p = spearmanr(panier_age['price'],panier_age['age_x'])\n",
    "print(coef,p)\n",
    "print('coefficient de correlation Spearmans: %.3f' % coef)\n",
    "alpha = 0.05\n",
    "if p > alpha:\n",
    "\tprint('les echantillons ne sont pas corrélés (ne pas rejeter H0) p=%.3f' % p)\n",
    "else:\n",
    "\tprint('les echantillons sont corrélés (rejeter H0) p=%.3f' % p)"
   ]
  },
  {
   "cell_type": "markdown",
   "id": "73d392b2",
   "metadata": {},
   "source": [
    "## graphique de relation entre l'age des clients et les prix des produits achetés"
   ]
  },
  {
   "cell_type": "code",
   "execution_count": null,
   "id": "d3603487",
   "metadata": {
    "scrolled": false
   },
   "outputs": [],
   "source": [
    "plt.figure(figsize=(10,8))\n",
    "sns.regplot(y=df4['price'], x=df4['age'],ci = None,line_kws = {'color': 'red'})\n",
    "plt.title('Relation entre age et prix produits achetés',size=18)\n",
    "plt.ylabel('Prix',size=14)\n",
    "plt.xlabel('Age',size=14)\n",
    "plt.show()"
   ]
  },
  {
   "cell_type": "markdown",
   "id": "60ef75c0",
   "metadata": {},
   "source": [
    "### test de normalité de Shapiro"
   ]
  },
  {
   "cell_type": "code",
   "execution_count": null,
   "id": "bfb1af7b",
   "metadata": {
    "scrolled": true
   },
   "outputs": [],
   "source": [
    "stat, ps = shapiro(df4['age'])\n",
    "print('Statistics=%.3f, p=%.3f' % (stat, ps))\n",
    "alpha = 0.05\n",
    "if p < alpha:\n",
    "    print('la distribution des données ne suit pas la loi normale p=%.3f' % p)\n",
    "else:\n",
    "    print('la distribution des données suit la loi normale p=%.3f' % p)"
   ]
  },
  {
   "cell_type": "markdown",
   "id": "98fdfb67",
   "metadata": {},
   "source": [
    "### Test non paramétrique de corrélation de Spearman sur variables quanti/quanti"
   ]
  },
  {
   "cell_type": "code",
   "execution_count": null,
   "id": "409f0d2e",
   "metadata": {},
   "outputs": [],
   "source": [
    "### On pose les hypothèses de départ :\n",
    "# H0 : Variables indépendantes si p-value > 5%\n",
    "# H1 : Variables non indépendantes si p-value < 5%\n",
    "\n",
    "coef, p = spearmanr(df4['price'],df4['age'])\n",
    "print(coef,p)\n",
    "print('coefficient de correlation Spearmans: %.3f' % coef)\n",
    "alpha = 0.05\n",
    "if p > alpha:\n",
    "\tprint('les echantillons ne sont pas corrélés (ne pas rejeter H0) p=%.3f' % p)\n",
    "else:\n",
    "\tprint('les echantillons sont corrélés (rejeter H0) p=%.3f' % p)"
   ]
  },
  {
   "cell_type": "markdown",
   "id": "7bc22e57",
   "metadata": {},
   "source": [
    "## graphique de relation entre l'age des clients et la catégorie de livres achetés"
   ]
  },
  {
   "cell_type": "code",
   "execution_count": null,
   "id": "d9a9fae9",
   "metadata": {
    "scrolled": false
   },
   "outputs": [],
   "source": [
    "plt.figure(figsize=(10,8))\n",
    "sns.boxplot( x=df4['categ'], y=df4['age'] )\n",
    "plt.title('Age selon catégorie')\n",
    "plt.ylabel('Age')\n",
    "plt.xlabel('Catégorie')\n",
    "plt.show()"
   ]
  },
  {
   "cell_type": "markdown",
   "id": "c5be07f2",
   "metadata": {},
   "source": [
    "### test de normalité de Shapiro"
   ]
  },
  {
   "cell_type": "code",
   "execution_count": null,
   "id": "d5f5ad9e",
   "metadata": {},
   "outputs": [],
   "source": [
    "stat, ps = shapiro(df4['age'])\n",
    "print('Statistics=%.3f, p=%.3f' % (stat, ps))\n",
    "alpha = 0.05\n",
    "if p < alpha:\n",
    "    print('la distribution des données ne suit pas la loi normale p=%.3f' % p)\n",
    "else:\n",
    "    print('la distribution des données suit la loi normale p=%.3f' % p)"
   ]
  },
  {
   "cell_type": "markdown",
   "id": "eaa09edc",
   "metadata": {},
   "source": [
    "### test de Kruskal-Wallis sur variables quali/quanti"
   ]
  },
  {
   "cell_type": "code",
   "execution_count": null,
   "id": "3e4ac003",
   "metadata": {},
   "outputs": [],
   "source": [
    "### On pose les hypothèses de départ :\n",
    "# H0 : Variables indépendantes si p-value > 5%\n",
    "# H1 : Variables non indépendantes si p-value < 5%\n",
    "    \n",
    "result =stats.kruskal(df4['categ'], df4['age'])\n",
    "print(p)\n",
    "alpha = 0.05\n",
    "if p> alpha:\n",
    "\tprint('les echantillons ne sont pas corrélés (ne pas rejeter H0) p=%.3f' % p)\n",
    "else:\n",
    "\tprint('les echantillons sont corrélés (rejeter H0) p=%.3f' % p)"
   ]
  },
  {
   "cell_type": "code",
   "execution_count": null,
   "id": "2aeddc96",
   "metadata": {},
   "outputs": [],
   "source": [
    "stats.ttest_ind(df4['categ'], df4['age'])\n",
    "p"
   ]
  },
  {
   "cell_type": "markdown",
   "id": "3190771c",
   "metadata": {},
   "source": [
    "## graphique de relation entre l'age des clients et la fréquence d'achat"
   ]
  },
  {
   "cell_type": "code",
   "execution_count": null,
   "id": "9bc647d8",
   "metadata": {
    "scrolled": false
   },
   "outputs": [],
   "source": [
    "age=customer[[\"client_id\",\"age\"]]\n",
    "freq = pd.crosstab(index = df4[\"client_id\"], columns='total')\n",
    "freq = pd.merge(freq,age,left_on=\"client_id\", right_on=\"client_id\")\n",
    "plt.figure(figsize=(10,8))\n",
    "sns.regplot(y=freq['total'], x=freq['age'],ci = None,line_kws = {\"color\": \"red\"})\n",
    "plt.title(\"Relation entre age et fréquence d'achat\",size=18)\n",
    "plt.ylabel(\"Fréquence\",size=14)\n",
    "plt.xlabel(\"Age\",size=14)\n",
    "plt.show()"
   ]
  },
  {
   "cell_type": "markdown",
   "id": "05950b87",
   "metadata": {},
   "source": [
    "### test de normalité de Shapiro"
   ]
  },
  {
   "cell_type": "code",
   "execution_count": null,
   "id": "59360a72",
   "metadata": {},
   "outputs": [],
   "source": [
    "stat, ps = shapiro(freq['age'])\n",
    "print('Statistics=%.3f, p=%.3f' % (stat, ps))\n",
    "alpha = 0.05\n",
    "if p < alpha:\n",
    "    print('la distribution des données ne suit pas la loi normale p=%.3f' % p)\n",
    "else:\n",
    "    print('la distribution des données suit la loi normale p=%.3f' % p)"
   ]
  },
  {
   "cell_type": "markdown",
   "id": "fca9c396",
   "metadata": {},
   "source": [
    "### Test non paramétrique de corrélation de Spearman sur variables quanti/quanti"
   ]
  },
  {
   "cell_type": "code",
   "execution_count": null,
   "id": "b6ae58e1",
   "metadata": {},
   "outputs": [],
   "source": [
    "### On pose les hypothèses de départ :\n",
    "# H0 : Variables indépendantes si p-value > 5%\n",
    "# H1 : Variables non indépendantes si p-value < 5%\n",
    "\n",
    "coef, p = spearmanr(freq['total'],freq['age'])\n",
    "print(coef,p)\n",
    "print('coefficiant de correlation Spearmans: %.3f' % coef)\n",
    "alpha = 0.05\n",
    "if p > alpha:\n",
    "\tprint('les echantillons ne sont pas corrélés (ne pas rejeter H0) p=%.3f' % p)\n",
    "else:\n",
    "\tprint('les echantillons sont corrélés (rejeter H0) p=%.3f' % p)"
   ]
  },
  {
   "cell_type": "markdown",
   "id": "9d14140d",
   "metadata": {},
   "source": [
    "## graphique de relation entre l'age des clients et le chiffre d'affaires"
   ]
  },
  {
   "cell_type": "code",
   "execution_count": null,
   "id": "53f9afa0",
   "metadata": {
    "scrolled": false
   },
   "outputs": [],
   "source": [
    "plt.figure(figsize=(10,8))\n",
    "ca_age=df4[[\"client_id\",\"price\"]]\n",
    "ca_age=ca_age.groupby([\"client_id\"]).sum()\n",
    "ca_age = ca_age.reset_index()\n",
    "age=customer[[\"client_id\",\"age\"]]\n",
    "ca_age=pd.merge(ca_age,age,left_on=\"client_id\", right_on=\"client_id\")\n",
    "sns.regplot(y=ca_age['price'], x=ca_age['age'],ci = None,line_kws = {\"color\": \"red\"})\n",
    "plt.title(\"Relation entre age et Chiffre d'affaires\",size=18)\n",
    "plt.ylabel(\"Chiffre d'affaires\",size=14)\n",
    "plt.xlabel('Age',size=14)\n",
    "plt.show()"
   ]
  },
  {
   "cell_type": "markdown",
   "id": "e4ed782e",
   "metadata": {},
   "source": [
    "### test de normalité de Shapiro"
   ]
  },
  {
   "cell_type": "code",
   "execution_count": null,
   "id": "49170546",
   "metadata": {
    "scrolled": false
   },
   "outputs": [],
   "source": [
    "stat, ps = shapiro(ca_age['age'])\n",
    "print('Statistics=%.3f, p=%.3f' % (stat, ps))\n",
    "alpha = 0.05\n",
    "if p < alpha:\n",
    "    print('la distribution des données ne suit pas la loi normale p=%.3f' % p)\n",
    "else:\n",
    "    print('la distribution des données suit la loi normale p=%.3f' % p)"
   ]
  },
  {
   "cell_type": "markdown",
   "id": "645942b7",
   "metadata": {},
   "source": [
    "### Test non paramétrique de corrélation de Spearmansur variables quanti/quanti"
   ]
  },
  {
   "cell_type": "code",
   "execution_count": null,
   "id": "c504e975",
   "metadata": {},
   "outputs": [],
   "source": [
    "### On pose les hypothèses de départ :\n",
    "# H0 : Variables indépendantes si p-value > 5%\n",
    "# H1 : Variables non indépendantes si p-value < 5%\n",
    "\n",
    "coef, p = spearmanr(ca_age['price'],ca_age['age'])\n",
    "print(coef,p)\n",
    "print('coefficiant de correlation Spearmans: %.3f' % coef)\n",
    "alpha = 0.05\n",
    "if p > alpha:\n",
    "\tprint('les echantillons ne sont pas corrélés (ne pas rejeter H0) p=%.3f' % p)\n",
    "else:\n",
    "\tprint('les echantillons sont corrélés (rejeter H0) p=%.3f' % p)"
   ]
  }
 ],
 "metadata": {
  "celltoolbar": "Aucun(e)",
  "kernelspec": {
   "display_name": "Python 3 (ipykernel)",
   "language": "python",
   "name": "python3"
  },
  "language_info": {
   "codemirror_mode": {
    "name": "ipython",
    "version": 3
   },
   "file_extension": ".py",
   "mimetype": "text/x-python",
   "name": "python",
   "nbconvert_exporter": "python",
   "pygments_lexer": "ipython3",
   "version": "3.9.12"
  },
  "toc": {
   "base_numbering": 1,
   "nav_menu": {},
   "number_sections": false,
   "sideBar": true,
   "skip_h1_title": false,
   "title_cell": "Table of Contents",
   "title_sidebar": "Contents",
   "toc_cell": false,
   "toc_position": {
    "height": "calc(100% - 180px)",
    "left": "10px",
    "top": "150px",
    "width": "384px"
   },
   "toc_section_display": true,
   "toc_window_display": true
  }
 },
 "nbformat": 4,
 "nbformat_minor": 5
}
